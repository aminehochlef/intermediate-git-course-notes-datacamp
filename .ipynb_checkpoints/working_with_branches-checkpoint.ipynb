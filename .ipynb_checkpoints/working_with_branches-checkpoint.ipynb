{
 "cells": [
  {
   "cell_type": "markdown",
   "metadata": {},
   "source": [
    "# Introduction to branches\n",
    "\n",
    "A branch is like a parallel universe of the git repo, by default the default branch of a git repo is main, if we create a new branch by doing :\n",
    "```bash\n",
    "git branch example-branch\n",
    "```\n",
    "the new example-branch could have it's own files and its own versions of files that are present in main, it's really like a parallel universe!\n",
    "\n",
    "Branches are useful when we want to add a new feature or to fix a bug, that way we create a branch called bug-fix (in the example of fixing a bug), and work on the project simultaneously without affecting the main project (we are branching-off), even if we have problems in our current project that won't affect the live project because it's getting served by the main branch.\n",
    "\n",
    "We could switch between branches using : \n",
    "```bash\n",
    "git switch example-branch\n",
    "```\n",
    "We could also create and switch to a new branch at the same time : \n",
    "```bash\n",
    "git switch -c example-branch\n",
    "```\n",
    "To check our branches : \n",
    "```bash\n",
    "git branch\n",
    "```\n",
    "When we are okay with the result in the branch, now it's time to merge back into the main branch, this is presented in this simple illustration : \n",
    "\n",
    "![Git branches](git-branches.png)"
   ]
  },
  {
   "cell_type": "markdown",
   "metadata": {},
   "source": [
    "# Modifying and comparing branches\n",
    "\n",
    "To compare two branches, like we compare two commits, or to compare file (staged or unstaged) to the latest commit etc ... : \n",
    "```bash\n",
    "git diff main example-branch\n",
    "```\n",
    "If we get into the trouble of confusing branch names, we need to resolve the issue by renaming the branches by a more clear name :\n",
    "```bash\n",
    "git branch -m old-branch-name new-branch-name\n",
    "```\n",
    "It's good practice to delete the branch after finishing with it and merging with the main branch to do this we execute the following command : \n",
    "```bash\n",
    "git branch -d example-branch\n",
    "```\n",
    "If `example-branch` hasn't been merged to `main` and we did the last command we will get an error, if we want to force the deletion : \n",
    "```bash\n",
    "git branch -D example-branch\n",
    "```"
   ]
  },
  {
   "cell_type": "markdown",
   "metadata": {},
   "source": [
    "# Merging branches\n",
    "\n",
    "When merging branches the branch that we want to merge from (the one with the new feature) is called the `source` branch, and the branch that we want to merge into is called the `destination` branch, the last commits from each branch are called the `parent commits`, if we want to merge `example-branch` into `main` we need first to switch to the main branch : \n",
    "```bash\n",
    "git switch main\n",
    "```\n",
    "and then merge :\n",
    "```bash\n",
    "git merge example-branch\n",
    "```\n",
    "If we want to merge the two branches without switching to main we can do so using this command : \n",
    "```bash\n",
    "git merge source destination\n",
    "\n",
    "git merge example-branch main \n",
    "```\n",
    "Note : the source being the first branch (order is important)"
   ]
  }
 ],
 "metadata": {
  "language_info": {
   "name": "python"
  }
 },
 "nbformat": 4,
 "nbformat_minor": 2
}
