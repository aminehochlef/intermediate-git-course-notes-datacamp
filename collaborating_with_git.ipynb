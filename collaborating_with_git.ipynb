{
 "cells": [
  {
   "cell_type": "markdown",
   "metadata": {},
   "source": [
    "# Merge conflicts\n",
    "\n",
    "When merging two branches it's not very incommon to have conflicts, a conflict means two branches getting merged have two different versions of a file for example and git doesn't know which one to keep.\n",
    "\n",
    "Therefore when we get a conflict we need to fix it in order to merge properly, but how is that?\n",
    "\n",
    "When git generates a conflict, it writes \"special characters\" in the content of file to specify the problem, to resolve the conflict we remove the special syntax, and keep the changes made by the feature branch if we want to keep it, save the modified file, add it to the staging area, commit it, and then try mergin again. \n",
    "\n"
   ]
  }
 ],
 "metadata": {
  "language_info": {
   "name": "python"
  }
 },
 "nbformat": 4,
 "nbformat_minor": 2
}
