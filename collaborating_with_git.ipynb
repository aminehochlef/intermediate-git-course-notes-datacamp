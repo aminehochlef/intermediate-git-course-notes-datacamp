{
 "cells": [
  {
   "cell_type": "markdown",
   "metadata": {},
   "source": [
    "# Merge conflicts\n",
    "\n",
    "When merging two branches it's not very incommon to have conflicts, a conflict means two branches getting merged have two different versions of a file for example and git doesn't know which one to keep.\n",
    "\n",
    "Therefore when we get a conflict we need to fix it in order to merge properly, but how is that?\n",
    "\n",
    "When git generates a conflict, it writes \"special characters\" in the content of file to specify the problem, to resolve the conflict we remove the special syntax, and keep the changes made by the feature branch if we want to keep it, save the modified file, add it to the staging area, commit it, and then try mergin again. "
   ]
  },
  {
   "cell_type": "markdown",
   "metadata": {},
   "source": [
    "# Introduction to remotes\n",
    "\n",
    "Remote repos are repos that are in the cloud this repos has many benefits like : \n",
    "\n",
    "* Work is backed up\n",
    "* Teams can collaborate on the same project\n",
    "\n",
    "Companies can choose to not host their repos on the cloud if they have strict privacy rules regarding data.\n",
    "\n",
    "## Cloning repos\n",
    "### Cloning local repos\n",
    "\n",
    "```bash\n",
    "git clone path/to/project\n",
    "```\n",
    "We can also give it a name like this :\n",
    "```bash\n",
    "git clone path/to/project new_repo_name\n",
    "```\n",
    "### Cloning remote repos \n",
    "\n",
    "```bash\n",
    "git clone URL_of_repo\n",
    "```\n",
    "When cloning remote repos git remembers where the original was, we can list all remotes associated with the repo like this : \n",
    "```bash\n",
    "git remote\n",
    "```\n",
    "or if we want to the result to be more detailed or \"verbose\":\n",
    "```bash\n",
    "git remote -v\n",
    "```\n",
    "By default git will name the remote repo `origin`, we can name the remote ourselves by using this command : \n",
    "```bash\n",
    "git remote add <name of remote repo> URL\n",
    "```\n",
    "Example : \n",
    "```bash\n",
    "git remote add hmed https://github.com/hmed/repo\n",
    "```"
   ]
  },
  {
   "cell_type": "markdown",
   "metadata": {},
   "source": [
    "# Pulling from remotes\n",
    "\n",
    "Fetching from the `origin` remote to our local repo:\n",
    "```bash\n",
    "git fetch origin \n",
    "```\n",
    "This :\n",
    "\n",
    "* Doesn't merge the remote repo contents into our local repo\n",
    "* It might add new branches that are present in the remote but not in the local \n",
    "* It fetches **ALL** branches\n",
    "\n",
    "If we want to fetch a single remote branch : \n",
    "```bash\n",
    "git fetch origin main\n",
    "```\n",
    "To synchronize content after fetching, we use : \n",
    "```bash\n",
    "git merge origin\n",
    "```\n",
    "This merges origin with our current local branch\n",
    "\n",
    "The `pull` command is more convenient it simplifies the operation by fetching and merging \"at the same time\"\n",
    "```bash\n",
    "git pull origin\n",
    "```\n",
    "As `fetch` we can pull a single branch from the remote :\n",
    "```bash\n",
    "git pull origin dev\n",
    "```"
   ]
  },
  {
   "cell_type": "markdown",
   "metadata": {},
   "source": [
    "# Pushing to remotes\n",
    "\n",
    "To push changes to our remote repo from our local repo we use : \n",
    "```bash\n",
    "git push remote local\n",
    "```\n",
    "Example : \n",
    "```bash\n",
    "git push origin main\n",
    "```\n",
    "In a typical workflow we first pull changes from the remote repo, work on our changes locally, save, commit and then push to the remote repo, if we don't pull first we might encounter an error when pushing stating that our local repo is behind and we need to pull from the remote before pushing."
   ]
  }
 ],
 "metadata": {
  "language_info": {
   "name": "python"
  }
 },
 "nbformat": 4,
 "nbformat_minor": 2
}
